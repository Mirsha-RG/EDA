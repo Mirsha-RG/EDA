{
 "cells": [
  {
   "cell_type": "code",
   "execution_count": 8,
   "id": "f34fb92e",
   "metadata": {},
   "outputs": [
    {
     "ename": "ModuleNotFoundError",
     "evalue": "No module named 'matplotlib'",
     "output_type": "error",
     "traceback": [
      "\u001b[31m---------------------------------------------------------------------------\u001b[39m",
      "\u001b[31mModuleNotFoundError\u001b[39m                       Traceback (most recent call last)",
      "\u001b[36mCell\u001b[39m\u001b[36m \u001b[39m\u001b[32mIn[8]\u001b[39m\u001b[32m, line 2\u001b[39m\n\u001b[32m      1\u001b[39m \u001b[38;5;28;01mimport\u001b[39;00m\u001b[38;5;250m \u001b[39m\u001b[34;01mpandas\u001b[39;00m\u001b[38;5;250m \u001b[39m\u001b[38;5;28;01mas\u001b[39;00m\u001b[38;5;250m \u001b[39m\u001b[34;01mpd\u001b[39;00m\n\u001b[32m----> \u001b[39m\u001b[32m2\u001b[39m \u001b[38;5;28;01mimport\u001b[39;00m\u001b[38;5;250m \u001b[39m\u001b[34;01mmatplotlib\u001b[39;00m\u001b[34;01m.\u001b[39;00m\u001b[34;01mpyplot\u001b[39;00m\u001b[38;5;250m \u001b[39m\u001b[38;5;28;01mas\u001b[39;00m\u001b[38;5;250m \u001b[39m\u001b[34;01mplt\u001b[39;00m\n\u001b[32m      3\u001b[39m \u001b[38;5;28;01mimport\u001b[39;00m\u001b[38;5;250m \u001b[39m\u001b[34;01mseaborn\u001b[39;00m\u001b[38;5;250m \u001b[39m\u001b[38;5;28;01mas\u001b[39;00m\u001b[38;5;250m \u001b[39m\u001b[34;01msns\u001b[39;00m\n\u001b[32m      4\u001b[39m \u001b[38;5;28;01mfrom\u001b[39;00m\u001b[38;5;250m \u001b[39m\u001b[34;01mtableone\u001b[39;00m\u001b[38;5;250m \u001b[39m\u001b[38;5;28;01mimport\u001b[39;00m TableOne\n",
      "\u001b[31mModuleNotFoundError\u001b[39m: No module named 'matplotlib'"
     ]
    }
   ],
   "source": [
    "import pandas as pd\n",
    "import matplotlib.pyplot as plt\n",
    "import seaborn as sns\n",
    "from tableone import TableOne\n",
    "from scipy.stats import shapiro\n",
    "import math\n",
    "from geopy.distance import geodesic"
   ]
  },
  {
   "cell_type": "code",
   "execution_count": 11,
   "metadata": {},
   "outputs": [
    {
     "name": "stdout",
     "output_type": "stream",
     "text": [
      "\n",
      "\u001b[1m[\u001b[0m\u001b[34;49mnotice\u001b[0m\u001b[1;39;49m]\u001b[0m\u001b[39;49m A new release of pip is available: \u001b[0m\u001b[31;49m23.1.2\u001b[0m\u001b[39;49m -> \u001b[0m\u001b[32;49m25.1.1\u001b[0m\n",
      "\u001b[1m[\u001b[0m\u001b[34;49mnotice\u001b[0m\u001b[1;39;49m]\u001b[0m\u001b[39;49m To update, run: \u001b[0m\u001b[32;49mpip install --upgrade pip\u001b[0m\n"
     ]
    }
   ],
   "source": [
    "!pip install tableone > null\n"
   ]
  },
  {
   "cell_type": "code",
   "execution_count": null,
   "id": "8ede996e",
   "metadata": {},
   "outputs": [],
   "source": [
    "url = 'https://raw.githubusercontent.com/4GeeksAcademy/data-preprocessing-project-tutorial/main/AB_NYC_2019.csv'"
   ]
  },
  {
   "cell_type": "code",
   "execution_count": null,
   "id": "a20fe899",
   "metadata": {},
   "outputs": [],
   "source": [
    "df = pd.read_csv(url)"
   ]
  },
  {
   "cell_type": "code",
   "execution_count": null,
   "id": "47f3c893",
   "metadata": {},
   "outputs": [],
   "source": [
    "# df.duplicated().sum()\n",
    "#df.shape\n",
    "df.dtypes"
   ]
  },
  {
   "cell_type": "code",
   "execution_count": null,
   "id": "d7348a41",
   "metadata": {},
   "outputs": [],
   "source": [
    "# comprobar si la variable binaria o es categorica\n",
    "\n",
    "def resumen_estadistico_categoricas(df):\n",
    "    resumen = []\n",
    "\n",
    "    # Seleccionar variables categóricas\n",
    "    columnas_cat = df.select_dtypes(include=['object', 'category', 'bool']).columns\n",
    "\n",
    "    for col in columnas_cat:\n",
    "        serie = df[col]\n",
    "        total = len(serie)\n",
    "        n_missing = serie.isna().sum()\n",
    "        n_unicos = serie.nunique(dropna=True)\n",
    "\n",
    "        # Moda y su frecuencia\n",
    "        if serie.dropna().empty:\n",
    "            moda = None\n",
    "            frec_moda = 0\n",
    "        else:\n",
    "            moda = serie.mode().iloc[0]\n",
    "            frec_moda = (serie == moda).sum()\n",
    "\n",
    "        resumen.append({\n",
    "            'Var': col,\n",
    "            'Tipo': 'Binaria' if n_unicos == 2 else 'Cat múlt',\n",
    "            'Moda': moda,\n",
    "            'Frec moda': frec_moda,\n",
    "            '% moda': round((frec_moda / total) * 100, 2),\n",
    "            'Val únicos': n_unicos,\n",
    "            'Faltantes': n_missing,\n",
    "            '% faltantes': round((n_missing / total) * 100, 2)\n",
    "        })\n",
    "\n",
    "    return pd.DataFrame(resumen)"
   ]
  },
  {
   "cell_type": "code",
   "execution_count": null,
   "id": "08db5d68",
   "metadata": {},
   "outputs": [],
   "source": [
    "resumen = resumen_estadistico_categoricas(df)\n",
    "print(resumen)"
   ]
  },
  {
   "cell_type": "code",
   "execution_count": null,
   "id": "5f806217",
   "metadata": {},
   "outputs": [],
   "source": [
    "#Distancia entre puntos turisticos\n",
    "\n",
    "def distancia_haversine(lat1, lon1, lat2, lon2):\n",
    "    r = 6371  # Radio de la Tierra en km\n",
    "    lat1, lon1, lat2, lon2 = map(math.radians, [lat1, lon1, lat2, lon2])\n",
    "    dlat = lat2 - lat1\n",
    "    dlon = lon2 - lon1\n",
    "    a = math.sin(dlat/2)**2 + math.cos(lat1) * math.cos(lat2) * math.sin(dlon/2)**2\n",
    "    c = 2 * math.asin(math.sqrt(a))\n",
    "    return r * c\n",
    "\n",
    "\n",
    "central_lat =  40.785091\n",
    "central_lon = -73.968285\n",
    "\n",
    "df['central_park'] = df.apply(\n",
    "    lambda row: distancia_haversine(\n",
    "        central_lat, central_lon,\n",
    "        row['latitude'], row['longitude']\n",
    "    ),\n",
    "    axis=1\n",
    ")\n",
    "\n",
    "\n",
    "\n",
    "time_lat =  40.7580\n",
    "time_lon = -73.9855\n",
    "\n",
    "df['time_square'] = df.apply(\n",
    "    lambda row: distancia_haversine(\n",
    "        time_lat, time_lon,\n",
    "        row['latitude'], row['longitude']\n",
    "    ),\n",
    "    axis=1\n",
    ")\n",
    "\n",
    "\n",
    "estatua_lat =  40.6892\n",
    "estatua_lon = -74.0445\n",
    "\n",
    "df['estatua_libertad'] = df.apply(\n",
    "    lambda row: distancia_haversine(\n",
    "        estatua_lat, estatua_lon,\n",
    "        row['latitude'], row['longitude']\n",
    "    ),\n",
    "    axis=1\n",
    ")\n",
    "\n",
    "\n",
    "\n",
    "broadway_lat =  40.7590\n",
    "broadway_lon = -73.9845\n",
    "\n",
    "df['broadway'] = df.apply(\n",
    "    lambda row: distancia_haversine(\n",
    "        broadway_lat, broadway_lon,\n",
    "        row['latitude'], row['longitude']\n",
    "    ),\n",
    "    axis=1\n",
    ")\n"
   ]
  },
  {
   "cell_type": "code",
   "execution_count": null,
   "id": "b2e292ad",
   "metadata": {},
   "outputs": [],
   "source": [
    "#df.info()\n",
    "df['room_type'].unique()"
   ]
  },
  {
   "cell_type": "code",
   "execution_count": null,
   "id": "35b1159d",
   "metadata": {},
   "outputs": [],
   "source": [
    "df['neighbourhood_group'].unique()"
   ]
  },
  {
   "cell_type": "code",
   "execution_count": null,
   "id": "10087cf9",
   "metadata": {},
   "outputs": [],
   "source": [
    "df.isna().sum()"
   ]
  },
  {
   "cell_type": "code",
   "execution_count": null,
   "id": "46ee7bcd",
   "metadata": {},
   "outputs": [],
   "source": [
    "df.groupby('room_type')[['price']].agg(['mean', 'std'])"
   ]
  },
  {
   "cell_type": "code",
   "execution_count": 4,
   "id": "b2d5aaec",
   "metadata": {},
   "outputs": [
    {
     "ename": "NameError",
     "evalue": "name 'df' is not defined",
     "output_type": "error",
     "traceback": [
      "\u001b[31m---------------------------------------------------------------------------\u001b[39m",
      "\u001b[31mNameError\u001b[39m                                 Traceback (most recent call last)",
      "\u001b[36mCell\u001b[39m\u001b[36m \u001b[39m\u001b[32mIn[4]\u001b[39m\u001b[32m, line 1\u001b[39m\n\u001b[32m----> \u001b[39m\u001b[32m1\u001b[39m df_lista = \u001b[43mdf\u001b[49m[[\u001b[33m'\u001b[39m\u001b[33mprice\u001b[39m\u001b[33m'\u001b[39m,\u001b[33m'\u001b[39m\u001b[33mneighbourhood_group\u001b[39m\u001b[33m'\u001b[39m, \u001b[33m'\u001b[39m\u001b[33mminimum_nights\u001b[39m\u001b[33m'\u001b[39m, \u001b[33m'\u001b[39m\u001b[33mavailability_365\u001b[39m\u001b[33m'\u001b[39m,\u001b[33m'\u001b[39m\u001b[33mroom_type\u001b[39m\u001b[33m'\u001b[39m]]\n\u001b[32m      3\u001b[39m \u001b[38;5;66;03m#df_lista['minimum_nights'] = df_lista['minimum_nights'].astype(str)\u001b[39;00m\n",
      "\u001b[31mNameError\u001b[39m: name 'df' is not defined"
     ]
    }
   ],
   "source": [
    "df_lista = df[['price','neighbourhood_group', 'minimum_nights', 'availability_365','room_type']]\n",
    "\n",
    "#df_lista['minimum_nights'] = df_lista['minimum_nights'].astype(str)"
   ]
  },
  {
   "cell_type": "code",
   "execution_count": null,
   "id": "45dbaf09",
   "metadata": {},
   "outputs": [],
   "source": [
    "nonnormal = []\n",
    "categorical = []\n",
    "\n",
    "for col in df_lista.columns:\n",
    "    if df_lista[col].dtype == 'object':\n",
    "        categorical.append(col)\n",
    "    else:\n",
    "        serie = df_lista[col].dropna()\n",
    "        if len(serie) >= 3:\n",
    "            if shapiro(serie).pvalue < 0.05:\n",
    "                nonnormal.append(col)"
   ]
  },
  {
   "cell_type": "code",
   "execution_count": null,
   "id": "a8963f4c",
   "metadata": {},
   "outputs": [],
   "source": [
    "\n",
    "TableOne(\n",
    "    data=df_lista,\n",
    "    columns=df_lista.columns.tolist(),\n",
    "    categorical=categorical, \n",
    "    nonnormal=nonnormal,\n",
    "    groupby='room_type',\n",
    "    pval=True,\n",
    "    htest_name=True\n",
    ")"
   ]
  },
  {
   "cell_type": "code",
   "execution_count": null,
   "id": "b66e376e",
   "metadata": {},
   "outputs": [
    {
     "ename": "NameError",
     "evalue": "name 'df_lista' is not defined",
     "output_type": "error",
     "traceback": [
      "\u001b[31m---------------------------------------------------------------------------\u001b[39m",
      "\u001b[31mNameError\u001b[39m                                 Traceback (most recent call last)",
      "\u001b[36mCell\u001b[39m\u001b[36m \u001b[39m\u001b[32mIn[1]\u001b[39m\u001b[32m, line 1\u001b[39m\n\u001b[32m----> \u001b[39m\u001b[32m1\u001b[39m \u001b[38;5;28mprint\u001b[39m(\u001b[43mdf_lista\u001b[49m.columns.tolist())\n",
      "\u001b[31mNameError\u001b[39m: name 'df_lista' is not defined"
     ]
    }
   ],
   "source": [
    "print(df_lista.columns.tolist())"
   ]
  },
  {
   "cell_type": "code",
   "execution_count": null,
   "id": "c6a7a60f",
   "metadata": {},
   "outputs": [],
   "source": [
    "df_turismo = df[['room_type','price','central_park', 'time_square', 'estatua_libertad', 'broadway']]"
   ]
  },
  {
   "cell_type": "code",
   "execution_count": null,
   "id": "030e8987",
   "metadata": {},
   "outputs": [],
   "source": [
    "\n",
    "nonnormal = []\n",
    "categorical = []\n",
    "\n",
    "for col in df_turismo.columns:\n",
    "    if df_turismo[col].dtype == 'object':\n",
    "        categorical.append(col)\n",
    "    else:\n",
    "        # Elimina nulos para evitar errores con Shapiro\n",
    "        datos = df_turismo[col].dropna()\n",
    "        if len(datos) < 3:\n",
    "            continue  \n",
    "        pval = shapiro(datos.sample(min(5000, len(datos))))[1]  # límite por tamaño\n",
    "        if pval < 0.05:\n",
    "            nonnormal.append(col)"
   ]
  },
  {
   "cell_type": "code",
   "execution_count": null,
   "id": "322cf9c5",
   "metadata": {},
   "outputs": [],
   "source": [
    "\n",
    "TableOne(\n",
    "    data=df_turismo,\n",
    "    columns=df_turismo.columns.tolist(),\n",
    "    categorical=categorical,\n",
    "    nonnormal=nonnormal,\n",
    "    groupby='room_type',\n",
    "    pval=True,\n",
    "    htest_name=True\n",
    ")"
   ]
  },
  {
   "cell_type": "code",
   "execution_count": null,
   "id": "1359f1f2",
   "metadata": {},
   "outputs": [],
   "source": [
    "plt.figure(figsize=(10,8))\n",
    "sns.heatmap(df.corr(numeric_only=True, method='spearman'), annot=True, cmap='coolwarm', fmt='.2f')\n",
    "plt.title('Matriz de correlación')"
   ]
  },
  {
   "cell_type": "code",
   "execution_count": null,
   "id": "195e64f8",
   "metadata": {},
   "outputs": [],
   "source": [
    "correlaciones = df.corr(numeric_only=True, method='spearman')\n",
    "correlaciones_con_precio = correlaciones['price'].sort_values(key=abs, ascending=False)\n",
    "print(correlaciones_con_precio)"
   ]
  },
  {
   "cell_type": "code",
   "execution_count": null,
   "id": "47d0f98c",
   "metadata": {},
   "outputs": [],
   "source": [
    "correlaciones = df.corr(numeric_only=True, method='pearson')\n",
    "correlaciones_con_precio = correlaciones['price'].sort_values(key=abs, ascending=False)\n",
    "print(correlaciones_con_precio)"
   ]
  },
  {
   "cell_type": "code",
   "execution_count": null,
   "id": "13815d7d",
   "metadata": {},
   "outputs": [],
   "source": [
    "sns.boxplot(data=df, x='room_type', y='price')\n",
    "plt.title('Precio por tipo de habitación')\n",
    "plt.show()"
   ]
  },
  {
   "cell_type": "code",
   "execution_count": null,
   "id": "c4a1d47a",
   "metadata": {},
   "outputs": [],
   "source": [
    "df['price'].describe()"
   ]
  }
 ],
 "metadata": {
  "kernelspec": {
   "display_name": "Python 3",
   "language": "python",
   "name": "python3"
  },
  "language_info": {
   "codemirror_mode": {
    "name": "ipython",
    "version": 3
   },
   "file_extension": ".py",
   "mimetype": "text/x-python",
   "name": "python",
   "nbconvert_exporter": "python",
   "pygments_lexer": "ipython3",
   "version": "3.11.4"
  }
 },
 "nbformat": 4,
 "nbformat_minor": 5
}
